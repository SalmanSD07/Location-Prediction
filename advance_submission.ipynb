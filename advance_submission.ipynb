{
  "nbformat": 4,
  "nbformat_minor": 0,
  "metadata": {
    "colab": {
      "provenance": []
    },
    "kernelspec": {
      "name": "python3",
      "display_name": "Python 3"
    },
    "language_info": {
      "name": "python"
    }
  },
  "cells": [
    {
      "cell_type": "markdown",
      "metadata": {
        "id": "ZaGn4ICrfqXZ"
      },
      "source": [
        "# 1 Author\n",
        "\n",
        "**Student Name**: Salman Ali Sayyed\n",
        "\n",
        "**Student ID**: 220663575\n",
        "\n"
      ]
    },
    {
      "cell_type": "markdown",
      "metadata": {
        "id": "o38VQkcdKd6k"
      },
      "source": [
        "# 2 Problem formulation\n",
        "**Advance Components**\n",
        "\n",
        "The problem that we are about to solve is to predict the spot of the audio given the audio file and the area to which the audio belongs. The model will classify audio into six different spots based on the area provided."
      ]
    },
    {
      "cell_type": "markdown",
      "metadata": {
        "id": "N3BwrtEdLDit"
      },
      "source": [
        "# 3 Machine Learning pipeline\n",
        "For the solution of the above problem of multi class classification, following steps had been taken.\n",
        "Since the audio data had already been loaded in problem 1 that step has been excluded\n",
        "1. **Reading csv: The csv with the labels and the files name had been read and analyzed.\n",
        "2. **Feature extraction**: To extract the features of audio file using the csv we had defined two function getPitch and getXy. Along with all the features that were used for problem 1 we had added indices of area of audio in the predictors and indices of spot of that particular area of audio file as the label.\n",
        "3. **Splitting dataset**: The predictors and labels had been splitted into train and validation set using sklearn and in the ratio of 70:30.\n",
        "4. **Selecting model**: After trying and  adjusting certain hyperparameters of various classifiers. Our model had been narrowed down to RandomForestClassifier with the hyperparameter as the code below\n",
        "6. **Validation**: Since it is a multiclass classification accuracy, precision, recall and f1-score are not sufficient that is why we had used confusion matrix to get a brief overview of our model performance. \n"
      ]
    },
    {
      "cell_type": "code",
      "source": [
        "from google.colab import drive\n",
        "\n",
        "import numpy as np\n",
        "import pandas as pd\n",
        "import matplotlib.pyplot as plt\n",
        "\n",
        "import os, sys, re, pickle, glob\n",
        "import urllib.request\n",
        "import zipfile\n",
        "\n",
        "import IPython.display as ipd\n",
        "from tqdm import tqdm\n",
        "import librosa\n",
        "\n",
        "drive.mount('/content/drive')"
      ],
      "metadata": {
        "colab": {
          "base_uri": "https://localhost:8080/"
        },
        "id": "lNUOjR09XDX-",
        "outputId": "281f9d63-a3f7-40f0-808d-8fa6b0e314c0"
      },
      "execution_count": 1,
      "outputs": [
        {
          "output_type": "stream",
          "name": "stdout",
          "text": [
            "Mounted at /content/drive\n"
          ]
        }
      ]
    },
    {
      "cell_type": "code",
      "source": [
        "directory_path='/content/drive/MyDrive/Data/ml_full_dataset/1_dataset/*.wav'\n",
        "files=glob.glob(directory_path)\n",
        "\n",
        "MLEndLS=pd.read_csv('./MLEndLS.csv').set_index('file_id')"
      ],
      "metadata": {
        "id": "pOkmHEa8XV0M"
      },
      "execution_count": 3,
      "outputs": []
    },
    {
      "cell_type": "markdown",
      "metadata": {
        "id": "j1nDXnzYLLH6"
      },
      "source": [
        "# 4 Transformation stage\n",
        "\n",
        "1. **Label Transformation**: Since we want to know which spot the audio belong based on the area we need to encode the area of the audio file along with it's corresponding spots. All the possible combinations of the areas and spots are encoded in the getXy function and an index or a number is assigned to each one of it and the index of the area along with audio power, pitch mean, pitch standard deviation, audio spectral features such as spectral bandwidth, spectral centroid etc are assigned as the predictors and the index of spot of audio file had been set as label.\n",
        "\n",
        "2. **Feature extraction**: Since noise of a audio file can easily be detected using the spectal fewatures of audio. Therefore spectral features along with index of area and pitch had been used as label\n",
        "\n",
        "3. **Feature transformation**:\n",
        "As all the features extracted are in the form of numpy array therefore there mean is taken and used as predictors.\n",
        "As after applying principle component analysis accuracy was decreasing hence it's not been implemented."
      ]
    },
    {
      "cell_type": "code",
      "source": [
        "def getPitch(x,fs,winLen=0.02):\n",
        "  #winLen = 0.02 \n",
        "  p = winLen*fs\n",
        "  frame_length = int(2**int(p-1).bit_length())\n",
        "  hop_length = frame_length//2\n",
        "  f0, voiced_flag, voiced_probs = librosa.pyin(y=x, fmin=80, fmax=450, sr=fs,\n",
        "                                                 frame_length=frame_length,hop_length=hop_length)\n",
        "  return f0,voiced_flag"
      ],
      "metadata": {
        "id": "eTFATrnPalo9"
      },
      "execution_count": 4,
      "outputs": []
    },
    {
      "cell_type": "code",
      "source": [
        "def getXy(files,labels_file, scale_audio=False, onlySingleDigit=False):\n",
        "  X,y =[],[]\n",
        "  for file in tqdm(files):\n",
        "    fileID = file.split('/')[-1]\n",
        "    file_name = file.split('/')[-1]\n",
        "    if(labels_file.loc[fileID]['area']=='campus'):\n",
        "      area=0\n",
        "      if(labels_file.loc[fileID]['spot']=='square'):\n",
        "        yi=0\n",
        "      elif(labels_file.loc[fileID]['spot']=='library'):\n",
        "        yi=1\n",
        "      elif(labels_file.loc[fileID]['spot']=='canal'):\n",
        "        yi=2\n",
        "      elif(labels_file.loc[fileID]['spot']=='reception'):\n",
        "        yi=3\n",
        "      elif(labels_file.loc[fileID]['spot']=='ground'):\n",
        "        yi=4\n",
        "      else:\n",
        "        yi=5\n",
        "    elif(labels_file.loc[fileID]['area']=='british'):\n",
        "      area=1\n",
        "      if(labels_file.loc[fileID]['spot']=='forecourt'):\n",
        "        yi=0\n",
        "      elif(labels_file.loc[fileID]['spot']=='greatcourt'):\n",
        "        yi=1\n",
        "      elif(labels_file.loc[fileID]['spot']=='room12'):\n",
        "        yi=2\n",
        "      elif(labels_file.loc[fileID]['spot']=='room23'):\n",
        "        yi=3\n",
        "      elif(labels_file.loc[fileID]['spot']=='street'):\n",
        "        yi=4\n",
        "      else:\n",
        "        yi=5\n",
        "    elif(labels_file.loc[fileID]['area']=='westend'):\n",
        "      area=2\n",
        "      if(labels_file.loc[fileID]['spot']=='piazza'):\n",
        "        yi=0\n",
        "      elif(labels_file.loc[fileID]['spot']=='market'):\n",
        "        yi=1\n",
        "      elif(labels_file.loc[fileID]['spot']=='charing'):\n",
        "        yi=2\n",
        "      elif(labels_file.loc[fileID]['spot']=='trafalgar'):\n",
        "        yi=3\n",
        "      elif(labels_file.loc[fileID]['spot']=='national'):\n",
        "        yi=4\n",
        "      else:\n",
        "        yi=5\n",
        "    elif(labels_file.loc[fileID]['area']=='southbank'):\n",
        "      area=3\n",
        "      if(labels_file.loc[fileID]['spot']=='waterloo'):\n",
        "        yi=0\n",
        "      elif(labels_file.loc[fileID]['spot']=='royal'):\n",
        "        yi=1\n",
        "      elif(labels_file.loc[fileID]['spot']=='food'):\n",
        "        yi=2\n",
        "      elif(labels_file.loc[fileID]['spot']=='skate'):\n",
        "        yi=3\n",
        "      elif(labels_file.loc[fileID]['spot']=='book'):\n",
        "        yi=4\n",
        "      else:\n",
        "        yi=5\n",
        "    elif(labels_file.loc[fileID]['area']=='kensington'):\n",
        "      area=4\n",
        "      if(labels_file.loc[fileID]['spot']=='cromwell'):\n",
        "        yi=0\n",
        "      elif(labels_file.loc[fileID]['spot']=='hintze'):\n",
        "        yi=1\n",
        "      elif(labels_file.loc[fileID]['spot']=='marine'):\n",
        "        yi=2\n",
        "      elif(labels_file.loc[fileID]['spot']=='dinosaur'):\n",
        "        yi=3\n",
        "      elif(labels_file.loc[fileID]['spot']=='pond'):\n",
        "        yi=4\n",
        "      else:\n",
        "        yi=5\n",
        "    else:\n",
        "      area=5\n",
        "      if(labels_file.loc[fileID]['spot']=='library'):\n",
        "        yi=0\n",
        "      elif(labels_file.loc[fileID]['spot']=='ritblat'):\n",
        "        yi=1\n",
        "      elif(labels_file.loc[fileID]['spot']=='upper'):\n",
        "        yi=2\n",
        "      elif(labels_file.loc[fileID]['spot']=='gardens'):\n",
        "        yi=3\n",
        "      elif(labels_file.loc[fileID]['spot']=='piazza'):\n",
        "        yi=4\n",
        "      else:\n",
        "        yi=5\n",
        "\n",
        "    fs = None # if None, fs would be 22050\n",
        "    x, fs = librosa.load(file,sr=fs)\n",
        "    spectralCentroid=librosa.feature.spectral_centroid(y=x,sr=fs)\n",
        "    spectral_bandwidth=librosa.feature.spectral_bandwidth(y=x,sr=fs)\n",
        "    spectral_contrast=librosa.feature.spectral_contrast(y=x,sr=fs)\n",
        "    spectral_flatness=librosa.feature.spectral_flatness(y=x)\n",
        "    spectral_rolloff=librosa.feature.spectral_rolloff(y=x,sr=fs)\n",
        "    if scale_audio: x = x/np.max(np.abs(x))\n",
        "    f0, voiced_flag = getPitch(x,fs,winLen=0.02)\n",
        "      \n",
        "    power = np.sum(x**2)/len(x)\n",
        "    pitch_mean = np.nanmean(f0) if np.mean(np.isnan(f0))<1 else 0\n",
        "    pitch_std  = np.nanstd(f0) if np.mean(np.isnan(f0))<1 else 0\n",
        "    voiced_fr = np.mean(voiced_flag)\n",
        "\n",
        "    xi = [power,pitch_mean,pitch_std,voiced_fr,np.mean(spectralCentroid),np.mean(spectral_bandwidth),np.mean(spectral_contrast),np.mean(spectral_flatness),np.mean(spectral_rolloff),int(area)]\n",
        "    X.append(xi)\n",
        "    y.append(int(yi))\n",
        "\n",
        "  return np.array(X),np.array(y)"
      ],
      "metadata": {
        "id": "f5XDTj4zanL4"
      },
      "execution_count": 5,
      "outputs": []
    },
    {
      "cell_type": "code",
      "source": [
        "X,y = getXy(files, labels_file=MLEndLS, scale_audio=True, onlySingleDigit=True)"
      ],
      "metadata": {
        "id": "vRfwB1kLasxd"
      },
      "execution_count": null,
      "outputs": []
    },
    {
      "cell_type": "code",
      "source": [
        "import csv\n",
        "import pickle\n",
        "\n",
        "with open(\"X_2.csv\",\"w+\") as my_csv:\n",
        "    csvWriter = csv.writer(my_csv,delimiter=',')\n",
        "    csvWriter.writerows(X)\n",
        "    \n",
        "with open(\"y_2\", \"wb\") as fp:\n",
        "  pickle.dump(y, fp)"
      ],
      "metadata": {
        "id": "ILkWiekWasX0"
      },
      "execution_count": null,
      "outputs": []
    },
    {
      "cell_type": "code",
      "source": [
        "X=pd.read_csv('X_2.csv')\n",
        "with open(\"y_2\", \"rb\") as fp:\n",
        "  y=pickle.load(fp)\n",
        "\n",
        "y=np.delete(y,0)\n",
        "\n",
        "print(X.shape)\n",
        "print(y.shape)"
      ],
      "metadata": {
        "colab": {
          "base_uri": "https://localhost:8080/"
        },
        "id": "7xRzr9DOasLD",
        "outputId": "80e4e3de-ff20-490a-c708-89b1093586bd"
      },
      "execution_count": 6,
      "outputs": [
        {
          "output_type": "stream",
          "name": "stdout",
          "text": [
            "(2491, 10)\n",
            "(2491,)\n"
          ]
        }
      ]
    },
    {
      "cell_type": "markdown",
      "metadata": {
        "id": "0F5_kI95LuZ2"
      },
      "source": [
        "# 5 Modelling\n",
        "1. **Random Forest Classifier**: Random Forest Classifier was trained as it handles non-linearity of parameters effectively. As it was giving better accuracy as compared to SVM, Decision Tree Classifier and Logistic Regression it was choosen. The hyperparameters max_features=10, max_depth=10 had been taken based on the accuracy score and confusion matrices"
      ]
    },
    {
      "cell_type": "code",
      "source": [
        "from sklearn.model_selection import train_test_split\n",
        "X_train, X_val, y_train, y_val = train_test_split(X,y,test_size=0.3)\n",
        "\n",
        "from sklearn.ensemble import RandomForestClassifier\n",
        "model=RandomForestClassifier(max_features=10,max_depth=10)\n",
        "\n",
        "# from sklearn import svm\n",
        "# model=svm.SVC(C=2000)\n",
        "\n",
        "# from sklearn.linear_model import LogisticRegression\n",
        "# model=LogisticRegression()\n",
        "\n",
        "# from sklearn.tree import DecisionTreeClassifier\n",
        "# model=DecisionTreeClassifier()\n",
        "\n",
        "model.fit(X_train,y_train)"
      ],
      "metadata": {
        "colab": {
          "base_uri": "https://localhost:8080/"
        },
        "id": "gEjHz8sCdWcr",
        "outputId": "a9ea8bcd-b036-40e5-d6b7-c4c03f5baedb"
      },
      "execution_count": 13,
      "outputs": [
        {
          "output_type": "execute_result",
          "data": {
            "text/plain": [
              "RandomForestClassifier(max_depth=10, max_features=10)"
            ]
          },
          "metadata": {},
          "execution_count": 13
        }
      ]
    },
    {
      "cell_type": "markdown",
      "metadata": {
        "id": "bPTSuaB9L2jU"
      },
      "source": [
        "# 6 Methodology\n",
        "\n",
        "The performance of the model is analysed based on certain scores or results which are as follows\n",
        "1. **Accuracy**: Its the ratio of correct predictions by the total number of predictions.\n",
        "2. **Confusion Matrix**:The confusion matrix is an n*n matrix that is used to measure the performance of classification models."
      ]
    },
    {
      "cell_type": "markdown",
      "metadata": {
        "id": "HZQPxztuL9AW"
      },
      "source": [
        "# 7 Dataset\n",
        "\n",
        "1. 2491 audio files had been used in total\n",
        "2. Input feature extraction and labelling is done for all of them.\n",
        "3. Data is then divided into training and validation into 70:30 ratio"
      ]
    },
    {
      "cell_type": "markdown",
      "metadata": {
        "id": "2qf7GN1aeXJI"
      },
      "source": [
        "# 8 Results\n"
      ]
    },
    {
      "cell_type": "code",
      "source": [
        "yt_p = model.predict(X_train)\n",
        "yv_p = model.predict(X_val)\n",
        "\n",
        "print('Training Accuracy', np.mean(yt_p==y_train))\n",
        "print('Validation  Accuracy', np.mean(yv_p==y_val))\n",
        "print('\\n')\n",
        "from sklearn import metrics\n",
        "confusion_matrix_train = pd.DataFrame.from_records(metrics.confusion_matrix(y_val, yv_p))\n",
        "confusion_matrix_val = pd.DataFrame.from_records(metrics.confusion_matrix(y_val, yv_p))\n",
        "print(\"Confusion matrix for training \\n\",confusion_matrix_train)\n",
        "print(\"\\n\")\n",
        "print(\"Confusion matrix for validation \\n\", confusion_matrix_val)"
      ],
      "metadata": {
        "colab": {
          "base_uri": "https://localhost:8080/"
        },
        "id": "qQL98i2WfI6S",
        "outputId": "c32edd36-f891-4151-8b06-b8968698a222"
      },
      "execution_count": 14,
      "outputs": [
        {
          "output_type": "stream",
          "name": "stdout",
          "text": [
            "Training Accuracy 0.9133677567412507\n",
            "Validation  Accuracy 0.33288770053475936\n",
            "\n",
            "\n",
            "Confusion matrix for training \n",
            "     0   1   2   3   4   5\n",
            "0  45  25  16  25   9  12\n",
            "1  31  37  12  11   7  15\n",
            "2  17  20  44  14  22  14\n",
            "3  19  21  19  35   9   9\n",
            "4  13  15  21  10  42  28\n",
            "5  14  19  14  12  26  46\n",
            "\n",
            "\n",
            "Confusion matrix for validation \n",
            "     0   1   2   3   4   5\n",
            "0  45  25  16  25   9  12\n",
            "1  31  37  12  11   7  15\n",
            "2  17  20  44  14  22  14\n",
            "3  19  21  19  35   9   9\n",
            "4  13  15  21  10  42  28\n",
            "5  14  19  14  12  26  46\n"
          ]
        }
      ]
    },
    {
      "cell_type": "code",
      "source": [
        "import seaborn as sns\n",
        "plt.figure(figsize=(10,6))\n",
        "fx= sns.heatmap(metrics.confusion_matrix(y_val, yv_p), annot=True)\n",
        "fx.set_title('Confusion Matrix \\n')\n",
        "fx.set_xlabel('\\n Predicted Values \\n')\n",
        "fx.set_ylabel('Actual Values \\n')\n",
        "\n",
        "fx.xaxis.set_ticklabels([1, 2, 3, 4, 5, 6])\n",
        "fx.yaxis.set_ticklabels([1, 2, 3, 4, 5, 6])\n",
        "plt.show()"
      ],
      "metadata": {
        "colab": {
          "base_uri": "https://localhost:8080/",
          "height": 442
        },
        "id": "6ZWLcsU8fnUr",
        "outputId": "b3a46d6d-3a4c-46fd-be86-2a803ab70e2c"
      },
      "execution_count": 15,
      "outputs": [
        {
          "output_type": "display_data",
          "data": {
            "text/plain": [
              "<Figure size 720x432 with 2 Axes>"
            ],
            "image/png": "[encoded data removed]"
          },
          "metadata": {
            "needs_background": "light"
          }
        }
      ]
    },
    {
      "cell_type": "code",
      "source": [
        "# Normalization\n",
        "mean = X_train.mean(0)\n",
        "sd =  X_train.std(0)\n",
        "\n",
        "X_train = (X_train-mean)/sd\n",
        "X_val  = (X_val-mean)/sd\n",
        "\n",
        "model.fit(X_train,y_train)\n",
        "\n",
        "yt_p = model.predict(X_train)\n",
        "yv_p = model.predict(X_val)\n",
        "\n",
        "print('Training Accuracy', np.mean(yt_p==y_train))\n",
        "print('Validation  Accuracy', np.mean(yv_p==y_val))\n",
        "\n",
        "confusion_matrix_train = pd.DataFrame.from_records(metrics.confusion_matrix(y_val, yv_p))\n",
        "confusion_matrix_val = pd.DataFrame.from_records(metrics.confusion_matrix(y_val, yv_p))\n",
        "print(\"Confusion matrix for training \\n\",confusion_matrix_train)\n",
        "print(\"\\n\")\n",
        "print(\"Confusion matrix for validation \\n\", confusion_matrix_val)"
      ],
      "metadata": {
        "colab": {
          "base_uri": "https://localhost:8080/"
        },
        "id": "-e1V2xqtf_j7",
        "outputId": "ed5031fa-e656-4321-91f8-689df3078c3e"
      },
      "execution_count": 16,
      "outputs": [
        {
          "output_type": "stream",
          "name": "stdout",
          "text": [
            "Training Accuracy 0.9168100975329891\n",
            "Validation  Accuracy 0.32754010695187163\n",
            "Confusion matrix for training \n",
            "     0   1   2   3   4   5\n",
            "0  48  27  12  23  11  11\n",
            "1  32  36  10  14   7  14\n",
            "2  23  19  37  14  22  16\n",
            "3  15  21  18  37  10  11\n",
            "4  16  14  16  11  45  27\n",
            "5  16  20  14  13  26  42\n",
            "\n",
            "\n",
            "Confusion matrix for validation \n",
            "     0   1   2   3   4   5\n",
            "0  48  27  12  23  11  11\n",
            "1  32  36  10  14   7  14\n",
            "2  23  19  37  14  22  16\n",
            "3  15  21  18  37  10  11\n",
            "4  16  14  16  11  45  27\n",
            "5  16  20  14  13  26  42\n"
          ]
        }
      ]
    },
    {
      "cell_type": "code",
      "source": [
        "# PCA\n",
        "from sklearn import preprocessing\n",
        "\n",
        "normalized_data = preprocessing.normalize(X, axis = 0)\n",
        "print(normalized_data.shape)\n",
        "\n",
        "from sklearn.decomposition import PCA\n",
        "pca=PCA(n_components=2)\n",
        "\n",
        "\n",
        "principalComponents=pca.fit_transform(normalized_data)\n",
        "principalDf = pd.DataFrame(data = principalComponents, columns = ['principal_component1', 'principal_component2'])\n",
        "\n",
        "\n",
        "from sklearn.model_selection import train_test_split\n",
        "\n",
        "X_train, X_val, y_train, y_val = train_test_split(principalDf,y,test_size=0.3)\n",
        "\n",
        "from sklearn.ensemble import RandomForestClassifier\n",
        "model=RandomForestClassifier(max_depth=15)\n",
        "# from sklearn import svm\n",
        "# model=svm.SVC()\n",
        "\n",
        "model.fit(X_train,y_train)\n",
        "\n",
        "yt_p = model.predict(X_train)\n",
        "yv_p = model.predict(X_val)\n",
        "\n",
        "\n",
        "print('Training Accuracy after pca', np.mean(yt_p==y_train))\n",
        "print('Validation  Accuracy after pca', np.mean(yv_p==y_val))\n",
        "\n",
        "confusion_matrix_train = pd.DataFrame.from_records(metrics.confusion_matrix(y_val, yv_p))\n",
        "confusion_matrix_val = pd.DataFrame.from_records(metrics.confusion_matrix(y_val, yv_p))\n",
        "print(\"Confusion matrix for training \\n\",confusion_matrix_train)\n",
        "print(\"\\n\")\n",
        "print(\"Confusion matrix for validation \\n\", confusion_matrix_val)"
      ],
      "metadata": {
        "colab": {
          "base_uri": "https://localhost:8080/"
        },
        "id": "ZZevT-vXf12j",
        "outputId": "90ccecf9-3f84-4f2b-bb2d-6296e9c8c318"
      },
      "execution_count": 17,
      "outputs": [
        {
          "output_type": "stream",
          "name": "stdout",
          "text": [
            "(2491, 10)\n",
            "Training Accuracy after pca 0.9810671256454389\n",
            "Validation  Accuracy after pca 0.1804812834224599\n",
            "Confusion matrix for training \n",
            "     0   1   2   3   4   5\n",
            "0  29  15  32  12  13  15\n",
            "1  24  22  41  10  23  20\n",
            "2  23  15  23  11  26  21\n",
            "3  19  16  26  13  22  15\n",
            "4  23  23  27  11  21  23\n",
            "5  24  20  23  15  25  27\n",
            "\n",
            "\n",
            "Confusion matrix for validation \n",
            "     0   1   2   3   4   5\n",
            "0  29  15  32  12  13  15\n",
            "1  24  22  41  10  23  20\n",
            "2  23  15  23  11  26  21\n",
            "3  19  16  26  13  22  15\n",
            "4  23  23  27  11  21  23\n",
            "5  24  20  23  15  25  27\n"
          ]
        }
      ]
    },
    {
      "cell_type": "markdown",
      "metadata": {
        "id": "fSrJCR_cekPO"
      },
      "source": [
        "# 9 Conclusions\n",
        "\n",
        "After training different models and comparing them through the defined metrices RandomForestClassifier was found to be the best\n",
        "Since we have an imbalanced dataset and we are dealing with a problem ofmulticless classification we cannot rely on accuracy and we do need to analyse confusion matrix in order to get the better understanding regarding the performance of our model.\n",
        "The scores of the model before and after normalization and after applying pca are as follows:\n",
        "\n",
        "**Before Normalization**\n",
        "\n",
        "Training Accuracy=0.9133677567412507\n",
        "\n",
        "Validation Accuracy=0.33288770053475936\n",
        "\n",
        "**After Normalization**\n",
        "\n",
        "Training Accuracy=0.9168100975329891\n",
        "\n",
        "Validation Accuracy=0.32754010695187163\n",
        "\n",
        "**After applying pca\n",
        "\n",
        "Training Accuracy=0.9810671256454389\n",
        "\n",
        "Validation Accuracy=0.1804812834224599\n",
        "\n",
        "Since the accuracy was better before applying pca than that after applying pca therefore I had decided not to apply pca to the predictors and stick to the 2nd set of results"
      ]
    },
    {
      "cell_type": "code",
      "source": [],
      "metadata": {
        "id": "z2B6yZItj0yq"
      },
      "execution_count": null,
      "outputs": []
    }
  ]
}